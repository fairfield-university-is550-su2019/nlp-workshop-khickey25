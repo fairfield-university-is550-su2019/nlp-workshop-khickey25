{
 "cells": [
  {
   "cell_type": "markdown",
   "metadata": {},
   "source": [
    "# Natural Language Processing (NLP) with TextaCy\n",
    "\n",
    "In part 1, we focused on the preprocessing side of NLP. However, there are much more tasks with NLP. In this tutorial, we are going to cover some of these tasks, including:\n",
    "\n",
    "### Table of Contents\n",
    "- [Getting Started](#Getting-Started)\n",
    "- [Loading Data](#Loading-Data)\n",
    "- [More on Named Entities](#More-on-Named-Entities)\n",
    "- [Part-of-Speech (POS) Tagging](#Part-of-Speech-Tagging)\n",
    "- [NP & VP Chunking](#NP-&-VP-Chunking)\n",
    "- [Term Extraction](#Term-Extraction)\n",
    "- [Topic Modeling](#Topic-Modeling)\n",
    "- [Conclusion](#Conclusion)"
   ]
  },
  {
   "cell_type": "markdown",
   "metadata": {},
   "source": [
    "## Getting Started\n",
    "\n",
    "We start with loading the `textacy` package again."
   ]
  },
  {
   "cell_type": "code",
   "execution_count": 1,
   "metadata": {},
   "outputs": [],
   "source": [
    "import textacy"
   ]
  },
  {
   "cell_type": "markdown",
   "metadata": {},
   "source": [
    "## Loading Data\n",
    "\n",
    "In this part, we will use the `CapitolWords()` dataset, which comes with TextaCy. We filter speeches made by Ms. Clinton and President Obama."
   ]
  },
  {
   "cell_type": "code",
   "execution_count": 2,
   "metadata": {},
   "outputs": [
    {
     "name": "stdout",
     "output_type": "stream",
     "text": [
      "Corpus(600 docs; 351573 tokens)\n"
     ]
    }
   ],
   "source": [
    "import textacy.datasets  # note the import\n",
    "cw = textacy.datasets.CapitolWords()\n",
    "#cw.download()\n",
    "records = cw.records(limit=600)\n",
    "text_stream, metadata_stream = textacy.io.split_records(records, 'text')\n",
    "corpus = textacy.Corpus('en', texts=text_stream, metadatas=metadata_stream)\n",
    "print(corpus)"
   ]
  },
  {
   "cell_type": "markdown",
   "metadata": {},
   "source": [
    "We can look at the basic statistics of the `corpus`."
   ]
  },
  {
   "cell_type": "code",
   "execution_count": 3,
   "metadata": {},
   "outputs": [
    {
     "data": {
      "text/plain": [
       "(600, 15318, 351573)"
      ]
     },
     "execution_count": 3,
     "metadata": {},
     "output_type": "execute_result"
    }
   ],
   "source": [
    "corpus.n_docs, corpus.n_sents, corpus.n_tokens"
   ]
  },
  {
   "cell_type": "markdown",
   "metadata": {},
   "source": [
    "[Back to Top](#Table-of-Contents)"
   ]
  },
  {
   "cell_type": "markdown",
   "metadata": {},
   "source": [
    "## More on Named Entities\n",
    "\n",
    "In part 1, we touched upon named entities, however, we did not dig deep into them. Here are more on them ...\n",
    "\n",
    "Named entities are about different objects in the real world, which include: time/date (`TIME/DATE`), location (`GPE`), organization (`ORG`), people/person (`NORP/PERSON`), number (`CARDINAL`), money (`MONEY`), ...\n",
    "\n",
    "let's use the following example to show aforementioned types.\n",
    "\n",
    "__NOTE__: do you know how TextaCy knows about these entities? Answer is TextaCy relies on a pre-trained __classification__ model to \"guess\"! Since it is classification, sometimes the named entities will be mis-classified."
   ]
  },
  {
   "cell_type": "code",
   "execution_count": 4,
   "metadata": {},
   "outputs": [
    {
     "name": "stdout",
     "output_type": "stream",
     "text": [
      "Speaker PERSON\n",
      "480,000 CARDINAL\n",
      "280,000 CARDINAL\n",
      "Speaker PERSON\n",
      "Newt Gingrich PERSON\n",
      "Republican NORP\n",
      "House ORG\n",
      "American NORP\n",
      "Georgia GPE\n",
      "Gingrich PERSON\n",
      "Republican NORP\n",
      "Dole PERSON\n",
      "Senate ORG\n",
      "Speaker PERSON\n",
      "American NORP\n"
     ]
    }
   ],
   "source": [
    "doc = corpus[0]\n",
    "for ent in textacy.extract.named_entities(doc, drop_determiners=True):\n",
    "    print(ent.text, ent.label_)"
   ]
  },
  {
   "cell_type": "markdown",
   "metadata": {},
   "source": [
    "In NLP practices, named entities can be very important (for instance, to determine the context of a document, in [information retrieval](https://en.wikipedia.org/wiki/Information_retrieval)) to not important at all (for instance, in [topic modeling](https://en.wikipedia.org/wiki/Topic_model)). So based on different tasks, we may use different strategies:\n",
    "- If they are important, extract them in a list;\n",
    "- If they are not important, replace them with their respective labels (e.g. `PERSON` for 'Clinton').\n",
    "\n",
    "### YOUR TURN HERE\n",
    "Extract all `PERSON` entities from `doc`, and store them in a list namely `person_lst`."
   ]
  },
  {
   "cell_type": "code",
   "execution_count": 7,
   "metadata": {},
   "outputs": [
    {
     "data": {
      "text/plain": [
       "['Speaker', 'Speaker', 'Newt Gingrich', 'Gingrich', 'Dole', 'Speaker']"
      ]
     },
     "execution_count": 7,
     "metadata": {},
     "output_type": "execute_result"
    }
   ],
   "source": [
    "#### Complete your code here\n",
    "ent_lst = [ent for ent in textacy.extract.named_entities(doc, drop_determiners=True)]\n",
    "person_lst = [p.text for p in ent_lst if p.label_ == 'PERSON']\n",
    "person_lst"
   ]
  },
  {
   "cell_type": "markdown",
   "metadata": {},
   "source": [
    "[Back to Top](#Table-of-Contents)"
   ]
  },
  {
   "cell_type": "markdown",
   "metadata": {},
   "source": [
    "# Part-of-Speech Tagging\n",
    "\n",
    "After tokenization, spaCy/textaCy can parse and tag a given `Doc`. This is where the statistical model comes in, which enables spaCy/textaCy to make a prediction of which tag or label most likely applies in this context. A model consists of binary data and is produced by showing a system enough examples for it to make predictions that generalize across the language – for example, a word following “the” in English is most likely a __noun__.\n",
    "\n",
    "This is done using the `pos_` attribute provided with `token` objects."
   ]
  },
  {
   "cell_type": "code",
   "execution_count": 8,
   "metadata": {},
   "outputs": [
    {
     "name": "stdout",
     "output_type": "stream",
     "text": [
      "Mr. PROPN\n",
      "Speaker PROPN\n",
      ", PUNCT\n",
      "480,000 NUM\n",
      "Federal ADJ\n",
      "employees NOUN\n",
      "are VERB\n",
      "working VERB\n",
      "without ADP\n",
      "pay NOUN\n",
      ", PUNCT\n",
      "a DET\n",
      "form NOUN\n",
      "of ADP\n",
      "involuntary ADJ\n",
      "servitude NOUN\n",
      "; PUNCT\n",
      "280,000 NUM\n",
      "Federal ADJ\n",
      "employees NOUN\n",
      "are VERB\n",
      "not ADV\n",
      "working VERB\n",
      ", PUNCT\n",
      "and CCONJ\n",
      "they PRON\n",
      "will VERB\n",
      "be VERB\n",
      "paid VERB\n",
      ". PUNCT\n",
      "Virtually ADV\n",
      "all DET\n",
      "of ADP\n",
      "these DET\n",
      "workers NOUN\n",
      "have VERB\n",
      "mortgages NOUN\n",
      "to PART\n",
      "pay VERB\n",
      ", PUNCT\n",
      "children NOUN\n",
      "to PART\n",
      "feed VERB\n",
      ", PUNCT\n",
      "and CCONJ\n",
      "financial ADJ\n",
      "obligations NOUN\n",
      "to PART\n",
      "meet VERB\n",
      ". PUNCT\n",
      "\n",
      " SPACE\n",
      "Mr. PROPN\n",
      "Speaker PROPN\n",
      ", PUNCT\n",
      "what NOUN\n",
      "is VERB\n",
      "happening VERB\n",
      "to ADP\n",
      "these DET\n",
      "workers NOUN\n",
      "is VERB\n",
      "immoral ADJ\n",
      ", PUNCT\n",
      "is VERB\n",
      "wrong ADJ\n",
      ", PUNCT\n",
      "and CCONJ\n",
      "must VERB\n",
      "be VERB\n",
      "rectified VERB\n",
      "immediately ADV\n",
      ". PUNCT\n",
      "Newt PROPN\n",
      "Gingrich PROPN\n",
      "and CCONJ\n",
      "the DET\n",
      "Republican ADJ\n",
      "leadership NOUN\n",
      "must VERB\n",
      "not ADV\n",
      "continue VERB\n",
      "to PART\n",
      "hold VERB\n",
      "the DET\n",
      "House PROPN\n",
      "and CCONJ\n",
      "the DET\n",
      "American ADJ\n",
      "people NOUN\n",
      "hostage NOUN\n",
      "while ADP\n",
      "they PRON\n",
      "push VERB\n",
      "their ADJ\n",
      "disastrous ADJ\n",
      "7-year ADJ\n",
      "balanced ADJ\n",
      "budget NOUN\n",
      "plan NOUN\n",
      ". PUNCT\n",
      "The DET\n",
      "gentleman NOUN\n",
      "from ADP\n",
      "Georgia PROPN\n",
      ", PUNCT\n",
      "Mr. PROPN\n",
      "Gingrich PROPN\n",
      ", PUNCT\n",
      "and CCONJ\n",
      "the DET\n",
      "Republican ADJ\n",
      "leadership NOUN\n",
      "must VERB\n",
      "join VERB\n",
      "Senator PROPN\n",
      "Dole PROPN\n",
      "and CCONJ\n",
      "the DET\n",
      "entire ADJ\n",
      "Senate PROPN\n",
      "and CCONJ\n",
      "pass VERB\n",
      "a DET\n",
      "continuing VERB\n",
      "resolution NOUN\n",
      "now ADV\n",
      ", PUNCT\n",
      "now ADV\n",
      "to PART\n",
      "reopen VERB\n",
      "Government PROPN\n",
      ". PUNCT\n",
      "\n",
      " SPACE\n",
      "Mr. PROPN\n",
      "Speaker PROPN\n",
      ", PUNCT\n",
      "that DET\n",
      "is VERB\n",
      "what NOUN\n",
      "the DET\n",
      "American ADJ\n",
      "people NOUN\n",
      "want VERB\n",
      ", PUNCT\n",
      "that DET\n",
      "is VERB\n",
      "what NOUN\n",
      "they PRON\n",
      "need VERB\n",
      ", PUNCT\n",
      "and CCONJ\n",
      "that DET\n",
      "is VERB\n",
      "what NOUN\n",
      "this DET\n",
      "body NOUN\n",
      "must VERB\n",
      "do VERB\n",
      ". PUNCT\n"
     ]
    }
   ],
   "source": [
    "for t in doc:\n",
    "    print(t, t.pos_)"
   ]
  },
  {
   "cell_type": "markdown",
   "metadata": {},
   "source": [
    "### YOUR TURN HERE\n",
    "Extract all non-stop verbs (`.pos_ == 'VERB'`) in its lemma form (`.lemma_`) from `doc`.\n",
    "\n",
    "__HINT__: non-stop words can be filtered using the `is_stop` attribute of any token `t`."
   ]
  },
  {
   "cell_type": "code",
   "execution_count": 17,
   "metadata": {},
   "outputs": [
    {
     "data": {
      "text/plain": [
       "['be',\n",
       " 'work',\n",
       " 'be',\n",
       " 'work',\n",
       " 'will',\n",
       " 'be',\n",
       " 'pay',\n",
       " 'have',\n",
       " 'pay',\n",
       " 'feed',\n",
       " 'meet',\n",
       " 'be',\n",
       " 'happen',\n",
       " 'be',\n",
       " 'be',\n",
       " 'must',\n",
       " 'be',\n",
       " 'rectify',\n",
       " 'must',\n",
       " 'continue',\n",
       " 'hold',\n",
       " 'push',\n",
       " 'must',\n",
       " 'join',\n",
       " 'pass',\n",
       " 'continue',\n",
       " 'reopen',\n",
       " 'be',\n",
       " 'want',\n",
       " 'be',\n",
       " 'need',\n",
       " 'be',\n",
       " 'must',\n",
       " 'do']"
      ]
     },
     "execution_count": 17,
     "metadata": {},
     "output_type": "execute_result"
    }
   ],
   "source": [
    "#### Complete your code here\n",
    "non_stop_verbs = [t.lemma_ for t in doc if t.pos_ == 'VERB']\n",
    "non_stop_verbs\n"
   ]
  },
  {
   "cell_type": "markdown",
   "metadata": {},
   "source": [
    "### Additional Task\n",
    "\n",
    "From above results, you can observe that many verbs are duplicated in the list. How can you remove the duplicates from the list? Can you return the number of unique (non-duplicate) verbs in `doc`?\n",
    "\n",
    "__HINT__: Which of Python's data types forbids duplicates?"
   ]
  },
  {
   "cell_type": "code",
   "execution_count": 22,
   "metadata": {},
   "outputs": [
    {
     "data": {
      "text/plain": [
       "19"
      ]
     },
     "execution_count": 22,
     "metadata": {},
     "output_type": "execute_result"
    }
   ],
   "source": [
    "#### Complete your code here\n",
    "\n",
    "len(list(set([v.lemma_ for v in doc if v.pos_ == 'VERB'])))"
   ]
  },
  {
   "cell_type": "markdown",
   "metadata": {},
   "source": [
    "[Back to Top](#Table-of-Contents)"
   ]
  },
  {
   "cell_type": "markdown",
   "metadata": {},
   "source": [
    "## NP & VP Chunking\n",
    "\n",
    "From common sense, we know that words (tokens) may not be the most useful linguistic unit in text. Sometimes, phrases formed by words contain inseparable senses in text. Identifying phrases in text is called phrase chunking. Phrase chunking is a natural language process that separates and segments a sentence into its subconstituents, such as noun, verb, and prepositional phrases. [Source: Wikipedia](https://en.wikipedia.org/wiki/Phrase_chunking).\n",
    "\n",
    "In practices, we focus mainly on Noun Phrases (NP) and Verb Phrases (VP).\n",
    "\n",
    "For NP Chunking, textaCy provides a built-in method (`textacy.extract.noun_chunks()`):"
   ]
  },
  {
   "cell_type": "code",
   "execution_count": 23,
   "metadata": {},
   "outputs": [
    {
     "name": "stdout",
     "output_type": "stream",
     "text": [
      "mr. speaker\n",
      "480,000 federal employees\n",
      "involuntary servitude\n",
      "280,000 federal employees\n",
      "financial obligations\n",
      "newt gingrich\n",
      "republican leadership\n",
      "american people\n",
      "their disastrous 7-year balanced budget plan\n",
      "mr. gingrich\n",
      "republican leadership\n",
      "senator dole\n",
      "entire senate\n",
      "continuing resolution\n",
      "american people\n"
     ]
    }
   ],
   "source": [
    "for np in textacy.extract.noun_chunks(doc, drop_determiners=True):\n",
    "    # this is to guarantee we are getting multi-word phrases not individual words\n",
    "    if len(np.text.split()) > 1: \n",
    "        print(np.text.lower())"
   ]
  },
  {
   "cell_type": "markdown",
   "metadata": {},
   "source": [
    "For VP chunking, it is a little bit more complicated. You will use regular expression matching on textaCy's built-in VP patterns. See example below:"
   ]
  },
  {
   "cell_type": "code",
   "execution_count": 24,
   "metadata": {},
   "outputs": [
    {
     "name": "stdout",
     "output_type": "stream",
     "text": [
      "not working\n",
      "not continue\n"
     ]
    }
   ],
   "source": [
    "pattern = textacy.constants.POS_REGEX_PATTERNS['en']['VP']\n",
    "for vp in textacy.extract.pos_regex_matches(doc, pattern):\n",
    "    # this is to guarantee we are getting multi-word phrases not individual words\n",
    "    if len(vp.text.split()) > 1:\n",
    "        print(vp.text.lower())"
   ]
  },
  {
   "cell_type": "markdown",
   "metadata": {},
   "source": [
    "Combining phrase (NP & VP) chunking with named entity extraction, you can extract more complicated linguistic patterns from text data.\n",
    "\n",
    "Below code can extract multi-word named entities from `doc`:"
   ]
  },
  {
   "cell_type": "code",
   "execution_count": 25,
   "metadata": {},
   "outputs": [
    {
     "name": "stdout",
     "output_type": "stream",
     "text": [
      "Newt Gingrich PERSON\n"
     ]
    }
   ],
   "source": [
    "for ent in textacy.extract.named_entities(doc, drop_determiners=True):\n",
    "    # this is to guarantee we are getting multi-word phrases not individual words\n",
    "    if len(ent.text.split()) > 1:\n",
    "        print(ent.text, ent.label_)"
   ]
  },
  {
   "cell_type": "markdown",
   "metadata": {},
   "source": [
    "Looks like with the help of machine learning, machines can understand a _little bit_ of text data, right? \n",
    "\n",
    "[Back to Top](#Table-of-Contents)\n",
    "\n",
    "Next, we are going to demonstrate advanced text analytics techniques.\n",
    "\n",
    "## Term Extraction\n",
    "\n",
    "We already learned how to extract words, named entities, or phrases from text. However, in text analytics, we do not treat every word/phrases equally - some of them are more important than others. We name these 'important' words/phrases as __terms__ (short for _terminologies_). Extracting terms from texts is an important NLP task.\n",
    "\n",
    "TextaCy provides several term extraction methods."
   ]
  },
  {
   "cell_type": "code",
   "execution_count": 26,
   "metadata": {},
   "outputs": [
    {
     "data": {
      "text/plain": [
       "[('mr. speaker', 0.3035427672053034),\n",
       " ('federal employee', 0.2616972010383204),\n",
       " ('involuntary servitude', 0.08617460492801503),\n",
       " ('disastrous 7-year balanced budget plan', 0.04935819478142997),\n",
       " ('financial obligation', 0.038464094474053946),\n",
       " ('republican leadership', 0.03821903775638875),\n",
       " ('american people hostage', 0.025960663604732682),\n",
       " ('newt gingrich', 0.024665421126952917),\n",
       " ('american people', 0.01946165097867519),\n",
       " ('mr. gingrich', 0.01578274872387086)]"
      ]
     },
     "execution_count": 26,
     "metadata": {},
     "output_type": "execute_result"
    }
   ],
   "source": [
    "# Load Keyterms for TextRank & Srank\n",
    "# make sure you import the sub-package\n",
    "import textacy.keyterms\n",
    "# SGRank\n",
    "textacy.keyterms.sgrank(doc, ngrams=(1, 2, 3, 4, 5, 6), \n",
    "                        normalize='lemma', window_width=1500, n_keyterms=10, idf=None)\n"
   ]
  },
  {
   "cell_type": "code",
   "execution_count": 27,
   "metadata": {},
   "outputs": [
    {
     "data": {
      "text/plain": [
       "[('mr. gingrich', 0.10326299996820038),\n",
       " ('mr. speaker', 0.0961995769603064),\n",
       " ('republican leadership', 0.08990451552580564),\n",
       " ('federal employee', 0.06315895773331351),\n",
       " ('worker', 0.04525770327187494),\n",
       " ('gingrich', 0.04479501873811079),\n",
       " ('american', 0.03108043001524713)]"
      ]
     },
     "execution_count": 27,
     "metadata": {},
     "output_type": "execute_result"
    }
   ],
   "source": [
    "# Single Rank\n",
    "textacy.keyterms.singlerank(doc, normalize='lemma', n_keyterms=10)"
   ]
  },
  {
   "cell_type": "code",
   "execution_count": 28,
   "metadata": {},
   "outputs": [
    {
     "data": {
      "text/plain": [
       "[('mr.', 0.051158139906163684),\n",
       " ('worker', 0.04072798173860888),\n",
       " ('speaker', 0.0394088990249264),\n",
       " ('people', 0.03615139717110902),\n",
       " ('leadership', 0.03378955685781249),\n",
       " ('american', 0.03235999947477206),\n",
       " ('gingrich', 0.03230718687060579),\n",
       " ('employee', 0.03142510822674716),\n",
       " ('federal', 0.031178603353196555),\n",
       " ('balanced', 0.026398739613760852)]"
      ]
     },
     "execution_count": 28,
     "metadata": {},
     "output_type": "execute_result"
    }
   ],
   "source": [
    "# Text rank\n",
    "textacy.keyterms.textrank(doc, normalize='lemma', n_keyterms=10)"
   ]
  },
  {
   "cell_type": "markdown",
   "metadata": {},
   "source": [
    "From these terms, can you get an understanding regarding the `doc`?\n",
    "\n",
    "[Back to Top](#Table-of-Contents)\n",
    "\n",
    "## Topic Modeling\n",
    "\n",
    "The most advanced technique for document understanding is named __Topic Modeling__, which relies on the (co-)occurrences of words/tokens/terms.\n",
    "\n",
    "TextaCy provides a method (`textacy.tm.topic_model.TopicModel`) for topic modeling purposes. To creating topic modeling, we need to generate word vectors, in which each word in represented using a vector. This functionality is built on scikit-learn.\n",
    "\n",
    "<img src='https://cdn-images-1.medium.com/max/1080/1*2r1yj0zPAuaSGZeQfG6Wtw.png' />"
   ]
  },
  {
   "cell_type": "code",
   "execution_count": 29,
   "metadata": {},
   "outputs": [],
   "source": [
    "from textacy.vsm import Vectorizer\n",
    " \n",
    "tokenized_docs = (doc.to_terms_list(ngrams=1, entities=True, as_strings=True) \n",
    "                  for doc in corpus[:500])"
   ]
  },
  {
   "cell_type": "code",
   "execution_count": 30,
   "metadata": {},
   "outputs": [],
   "source": [
    "vectorizer = Vectorizer(apply_idf=True, norm='l2', min_df=3, max_df=0.95, idf_type='smooth', \n",
    "                       tf_type='linear', max_n_terms=100000)"
   ]
  },
  {
   "cell_type": "code",
   "execution_count": 31,
   "metadata": {},
   "outputs": [],
   "source": [
    "doc_term_matrix = vectorizer.fit_transform(tokenized_docs)"
   ]
  },
  {
   "cell_type": "code",
   "execution_count": 32,
   "metadata": {},
   "outputs": [
    {
     "data": {
      "text/plain": [
       "['$', '$ 1 million', '$ 1.2 billion', '$ 10 billion', '$ 12 million']"
      ]
     },
     "execution_count": 32,
     "metadata": {},
     "output_type": "execute_result"
    }
   ],
   "source": [
    "vectorizer.terms_list[:5]"
   ]
  },
  {
   "cell_type": "markdown",
   "metadata": {},
   "source": [
    "With a vectorized corpus (i.e. document-term matrix) and corresponding vocabulary (i.e. mapping of term strings to column indices in the matrix), we can then initialize and train a topic model:"
   ]
  },
  {
   "cell_type": "code",
   "execution_count": 33,
   "metadata": {},
   "outputs": [
    {
     "data": {
      "text/plain": [
       "TopicModel(n_topics=20, model=NMF)"
      ]
     },
     "execution_count": 33,
     "metadata": {},
     "output_type": "execute_result"
    }
   ],
   "source": [
    "model = textacy.tm.TopicModel('nmf', n_topics=20)\n",
    "model.fit(doc_term_matrix)\n",
    "model"
   ]
  },
  {
   "cell_type": "markdown",
   "metadata": {},
   "source": [
    "Now let's transform the corpus and interpret our model:"
   ]
  },
  {
   "cell_type": "code",
   "execution_count": 34,
   "metadata": {},
   "outputs": [],
   "source": [
    "doc_topic_matrix = model.transform(doc_term_matrix)"
   ]
  },
  {
   "cell_type": "code",
   "execution_count": 35,
   "metadata": {},
   "outputs": [
    {
     "name": "stdout",
     "output_type": "stream",
     "text": [
      "topic 0 : -PRON-   people   think   go   want   say   know   president   child   work\n",
      "topic 1 : gentleman   mr.   2 minute   yield   minute   chairman   distinguished   2   -PRON-   madam\n",
      "topic 2 : unanimous   consent   ask   amendment   -PRON-   dispense   consider   reading   read   withdraw\n",
      "topic 3 : budget   fiscal   section   1997   year   level   fiscal year 1997   resolution   authority   outlay\n",
      "topic 4 : abortion   baby   procedure   birth   mother   partial   perform   deliver   doctor   article\n",
      "topic 5 : amendment   chairman   clerk   designate   the   offer   mr.   -PRON-   sanders   vermont\n",
      "topic 6 : $   money   program   spend   budget   billion   loan   medicare   spending   government\n",
      "topic 7 : philadelphia   honor   fire   serve   school   president   service   department   whereas   community\n",
      "topic 8 : table   motion   lay   reconsider   agree   resolution   relate   vote   statement   president\n",
      "topic 9 : wage   minimum   job   hour   raise   worker   low   speaker   $   people\n",
      "topic 10 : rescind   quorum   order   unanimous   consent   ask   president   mr.   -PRON-   correct\n",
      "topic 11 : drug   abuse   rohypnol   schedule   mexico   reschedule   colombia   research   effort   random\n",
      "topic 12 : senator   yield   pennsylvania   president   comment   mr.   will   -PRON-   vermont   before\n",
      "topic 13 : bill   cloture   tuesday   nuclear   vote   waste   10   allow   yes   o'clock\n",
      "topic 14 : be   desire   student   chamber   teacher   school   senators   learn   vote   class\n",
      "topic 15 : chemical   treaty   convention   weapon   cwc   weapons   ratify   condition   chemical weapons convention   international\n",
      "topic 16 : thursday   a.m.   hearing   authorize   session   meet   committee   unanimous   1996   consent\n",
      "topic 17 : consideration   immediate   proceed   desk   senate   s. res   president   ask   res   h.r.\n",
      "topic 18 : gentlewoman   1 minute   1   minute   ms.   yield   chairman   mrs.   mr.   -PRON-\n",
      "topic 19 : insurance   patient   care   health   doctor   company   woman   medical   domestic   hmo\n"
     ]
    }
   ],
   "source": [
    "for topic_idx, top_terms in model.top_topic_terms(vectorizer.id_to_term):\n",
    "    print('topic', topic_idx, ':', '   '.join(top_terms))"
   ]
  },
  {
   "cell_type": "markdown",
   "metadata": {},
   "source": [
    "We can then associate topics with docs in our corpus."
   ]
  },
  {
   "cell_type": "code",
   "execution_count": 36,
   "metadata": {},
   "outputs": [
    {
     "name": "stdout",
     "output_type": "stream",
     "text": [
      "topic 0 : insurance   patient   care   health   doctor   company   woman   medical   domestic   hmo\n",
      "CAMPAIGN FINANCE AMENDMENT TO THE CONSTITUTION\n",
      "CAMPAIGN FINANCE AMENDMENT TO THE CONSTITUTION\n",
      "topic 1 : insurance   patient   care   health   doctor   company   woman   medical   domestic   hmo\n",
      "CONCURRENT RESOLUTION ON THE BUDGET, FISCAL YEAR 1997\n",
      "CONCURRENT RESOLUTION ON THE BUDGET, FISCAL YEAR 1997\n",
      "topic 2 : insurance   patient   care   health   doctor   company   woman   medical   domestic   hmo\n",
      "PERSONAL RESPONSIBILITY, WORK OPPORTUNITY, AND MEDICAID RESTRUCTURING ACT OF 1996\n",
      "FEDERAL AVIATION AUTHORIZATION ACT OF 1996--CONFERENCE REPORT\n"
     ]
    }
   ],
   "source": [
    "for topic_idx, top_docs in model.top_topic_docs(doc_topic_matrix, topics=[0,1,2], top_n=2):\n",
    "    print('topic', topic_idx, ':', '   '.join(top_terms))\n",
    "    for j in top_docs:\n",
    "        print(corpus[j].metadata['title'])"
   ]
  },
  {
   "cell_type": "markdown",
   "metadata": {},
   "source": [
    "How about the top-10 best match docs and topics?"
   ]
  },
  {
   "cell_type": "code",
   "execution_count": 37,
   "metadata": {},
   "outputs": [
    {
     "name": "stdout",
     "output_type": "stream",
     "text": [
      "JOIN THE SENATE AND PASS A CONTINUING RESOLUTION : (9, 6)\n",
      "MEETING THE CHALLENGE : (0, 3)\n",
      "DISPOSING OF SENATE AMENDMENT TO H.R. 1643, EXTENSION OF MOST-FAVORED- NATION TREATMENT FOR BULGARIA : (6, 0)\n",
      "EXAMINING THE SPEAKER'S UPCOMING TRAVEL SCHEDULE : (6, 9)\n",
      "FLOODING IN PENNSYLVANIA : (0, 12)\n",
      "EMERGENCY RELIEF : (10, 2)\n",
      "FUEL ASSISTANCE PROGRAMS IMPORTANT FOR AMERICA : (6, 9)\n",
      "THANK YOU FOR FUNDING LIHEAP : (6, 3)\n",
      "THE BALANCED BUDGET DOWNPAYMENT ACT, I : (1, 5)\n",
      "THE BALANCED BUDGET DOWNPAYMENT ACT, I : (0, 6)\n"
     ]
    }
   ],
   "source": [
    "for doc_idx, topics in model.top_doc_topics(doc_topic_matrix, docs=range(10), top_n=2):\n",
    "    print(corpus[doc_idx].metadata['title'], ':', topics)"
   ]
  },
  {
   "cell_type": "markdown",
   "metadata": {},
   "source": [
    "We can also in return look at the topic loading on the whole corpus, which can be used to determine the importance of each topic (the __higher__, the __better__)."
   ]
  },
  {
   "cell_type": "code",
   "execution_count": 38,
   "metadata": {},
   "outputs": [
    {
     "name": "stdout",
     "output_type": "stream",
     "text": [
      "0 0.20584447824628402\n",
      "1 0.07548965793937637\n",
      "2 0.050604611424859905\n",
      "3 0.05639166738850876\n",
      "4 0.05913420029099103\n",
      "5 0.047731785338855415\n",
      "6 0.0787177561231378\n",
      "7 0.038134379126689585\n",
      "8 0.029987909141494854\n",
      "9 0.041858259719766464\n",
      "10 0.02683806210822119\n",
      "11 0.029528549059495895\n",
      "12 0.041220231779665446\n",
      "13 0.033166684534656064\n",
      "14 0.031506116237489126\n",
      "15 0.02829695033891684\n",
      "16 0.03176529893698229\n",
      "17 0.02913646593578132\n",
      "18 0.028068283492976635\n",
      "19 0.03657865283585096\n"
     ]
    }
   ],
   "source": [
    "for i, val in enumerate(model.topic_weights(doc_topic_matrix)):\n",
    "    print(i, val)"
   ]
  },
  {
   "cell_type": "markdown",
   "metadata": {},
   "source": [
    "We can also visualize the topics"
   ]
  },
  {
   "cell_type": "code",
   "execution_count": 39,
   "metadata": {},
   "outputs": [
    {
     "data": {
      "text/plain": [
       "<matplotlib.axes._subplots.AxesSubplot at 0x7f00c18af518>"
      ]
     },
     "execution_count": 39,
     "metadata": {},
     "output_type": "execute_result"
    },
    {
     "data": {
      "image/png": "[encoded data removed]",
      "text/plain": [
       "<Figure size 790.964x602.522 with 1 Axes>"
      ]
     },
     "metadata": {},
     "output_type": "display_data"
    }
   ],
   "source": [
    "model.termite_plot(doc_term_matrix, vectorizer.id_to_term,\n",
    "                  topics=-1,  n_terms=25, sort_terms_by='seriation')"
   ]
  },
  {
   "cell_type": "markdown",
   "metadata": {},
   "source": [
    "You can save the trained model for future use."
   ]
  },
  {
   "cell_type": "code",
   "execution_count": null,
   "metadata": {},
   "outputs": [],
   "source": [
    "#model.save('nmf-20topics.pkl')"
   ]
  },
  {
   "cell_type": "markdown",
   "metadata": {},
   "source": [
    "## Conclusion\n",
    "\n",
    "In this tutorial, we learned some advanced text analytics techniques, these techniques are either used to extract (semi-structured) information from text, or summarizing text using most important terms or topics.\n",
    "\n",
    "The techniques you learned in part 1 & 2 cover the most important NLP tasks in the field of text mining. Feel free to try them on your own. \n",
    "\n",
    "### Have fun text mining!\n",
    "\n",
    "### Useful Links\n",
    "- [TextaCy API references](https://chartbeat-labs.github.io/textacy/api_reference.html#)\n",
    "- [Natural Language Processing is Fun!](https://medium.com/@ageitgey/natural-language-processing-is-fun-9a0bff37854e)\n",
    "- [spaCy 101: Everything you need to know](https://spacy.io/usage/spacy-101)\n",
    "\n",
    "__PLEASE complete both parts of the tutorial and submit back using GitHub classroom.__"
   ]
  },
  {
   "cell_type": "code",
   "execution_count": null,
   "metadata": {},
   "outputs": [],
   "source": []
  }
 ],
 "metadata": {
  "kernelspec": {
   "display_name": "Python 3",
   "language": "python",
   "name": "python3"
  },
  "language_info": {
   "codemirror_mode": {
    "name": "ipython",
    "version": 3
   },
   "file_extension": ".py",
   "mimetype": "text/x-python",
   "name": "python",
   "nbconvert_exporter": "python",
   "pygments_lexer": "ipython3",
   "version": "3.6.7"
  }
 },
 "nbformat": 4,
 "nbformat_minor": 2
}
